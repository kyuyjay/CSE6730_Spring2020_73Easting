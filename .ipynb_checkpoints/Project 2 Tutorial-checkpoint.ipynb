{
 "cells": [
  {
   "cell_type": "markdown",
   "metadata": {},
   "source": [
    "# War and Peace: Modelling the Battle of 73 Easting"
   ]
  },
  {
   "cell_type": "markdown",
   "metadata": {},
   "source": [
    "## 1. Introduction \n",
    "    \n",
    "On 26 February 1991 [10], the last large scale tank battle ever fought took place between the UN coalition forces against the Iraqi Armored Division as part of Operation Desert Sabre. The result was the decimation of the Iraqi forces, with them losing 160 tanks compared to the UN forces losing none of their tanks even though the Iraqi forces had an overwhelming numerical advantage. If the Iraqi commanders could have modelled this battle before hand and foreseen this outcome, would they have chosen a different course of action?\n",
    "\n",
    "Modelling and simulation thus play a huge role in the military domain and the United States even has a dedicated entity, the Modeling and Simulation Coordination Office, towards developing and implementing accurate simulations [3]. The benefits of a successful prediction cannot be understated, but its definitely not the sole benefit of a precise model. The use of a model facilitates the testing of hypothetical questions [12], the what-ifs that could possibly flip the narrative, without having to spend resources on physical war games. Some hypothetical can even be physically impossible to conduct without significant risk.\n",
    "\n",
    "This tutorial hopes to emphasize these benefits and difficulties faced when applying the various models when applied to a military battle and this process will cover the development of the models in increasing granularity, increasing in complexity by incorporating additional factors with each subsequent model [11].\n"
   ]
  },
  {
   "cell_type": "markdown",
   "metadata": {},
   "source": [
    "## 2. Problem Description\n",
    "\n",
    "Operation Desert Sabre started on 24 February [15] and encompassed the entire coalition’s efforts in counterattacking Iraq by crossing the border from Kuwait. The Battle of 73 Easting, in particular,refers to a few hours of the 3rd day of this operation when the 2nd Armored Calvary Regiment advanced from 70 Easting to 73 Easting at 1545H, meeting the Tawakalna 18th Mechanized Brigade and the 9th Armored Brigade.\n",
    "\n",
    "### 2.1 Model Input and Output\n",
    "<img src = \"model.jpg\" style=\"width: 200px;height:400px;transform:rotate(-90deg)\">\n",
    "Giving the context of the battle, the input of each model can be seen as the number, strength, and location of each tank. From these parameters, the model will then output the predicted number of casualties on both sides. For the Battle of 73 Easting, the number of units on both sides are listed in Table 1 and 2 [11]. \n",
    "\n",
    "### 2.2 Assumptions\n",
    "1. All armored units are homogeneous and have the same equipment as other tanks of the same model.\n",
    "2. Infantry fire is negligible due to their low numbers and low effectiveness against armored vehicles.\n",
    "3. The theatre for the battle is limited to a small area between 70 and 73 Easting.\n",
    "    \n",
    "### 2.3 Aim\n",
    "The aim of this tutorial is to simulate the Battle of 73 Easting under the above conditions by determining the parameters of each model. Each model will then be evaluated on\n",
    "1. Accuracy compared to the final product\n",
    "2. Ease of modifying the model to account for hypothetical situations"
   ]
  },
  {
   "cell_type": "code",
   "execution_count": null,
   "metadata": {},
   "outputs": [],
   "source": []
  }
 ],
 "metadata": {
  "kernelspec": {
   "display_name": "Python 3",
   "language": "python",
   "name": "python3"
  },
  "language_info": {
   "codemirror_mode": {
    "name": "ipython",
    "version": 3
   },
   "file_extension": ".py",
   "mimetype": "text/x-python",
   "name": "python",
   "nbconvert_exporter": "python",
   "pygments_lexer": "ipython3",
   "version": "3.7.4"
  }
 },
 "nbformat": 4,
 "nbformat_minor": 2
}
