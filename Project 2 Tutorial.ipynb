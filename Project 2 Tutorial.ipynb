{
 "cells": [
  {
   "cell_type": "markdown",
   "metadata": {},
   "source": [
    "# War and Peace: Modelling the Battle of 73 Easting"
   ]
  },
  {
   "cell_type": "markdown",
   "metadata": {},
   "source": [
    "## 1. Introduction \n",
    "    \n",
    "On 26 February 1991 [10], the last large scale tank battle ever fought took place between the UN coalition forces against the Iraqi Armored Division as part of Operation Desert Sabre. The result was the decimation of the Iraqi forces, with them losing 160 tanks compared to the UN forces losing none of their tanks even though the Iraqi forces had an overwhelming numerical advantage. If the Iraqi commanders could have modelled this battle before hand and foreseen this outcome, would they have chosen a different course of action?\n",
    "\n",
    "Modelling and simulation thus play a huge role in the military domain and the United States even has a dedicated entity, the Modeling and Simulation Coordination Office, towards developing and implementing accurate simulations [3]. The benefits of a successful prediction cannot be understated, but its definitely not the sole benefit of a precise model. The use of a model facilitates the testing of hypothetical questions [12], the what-ifs that could possibly flip the narrative, without having to spend resources on physical war games. Some hypothetical can even be physically impossible to conduct without significant risk.\n",
    "\n",
    "This tutorial hopes to emphasize these benefits and difficulties faced when applying the various models when applied to a military battle and this process will cover the development of the models in increasing granularity, increasing in complexity by incorporating additional factors with each subsequent model [11].\n"
   ]
  },
  {
   "cell_type": "markdown",
   "metadata": {},
   "source": [
    "## 2. Problem Description\n",
    "\n",
    "Operation Desert Sabre started on 24 February [15] and encompassed the entire coalition’s efforts in counterattacking Iraq by crossing the border from Kuwait. The Battle of 73 Easting, in particular,refers to a few hours of the 3rd day of this operation when the 2nd Armored Calvary Regiment advanced from 70 Easting to 73 Easting at 1545H, meeting the Tawakalna 18th Mechanized Brigade and the 9th Armored Brigade.\n",
    "\n",
    "### 2.1 Model Input and Output\n",
    "<img src = \"model.jpg\" style=\"width: 200px;height:400px;transform:rotate(-90deg)\">\n",
    "Giving the context of the battle, the input of each model can be seen as the number, strength, and location of each tank. From these parameters, the model will then output the predicted number of casualties on both sides. For the Battle of 73 Easting, the number of units on both sides are listed in Table 1 and 2 [11]. \n",
    "\n",
    "### 2.2 Assumptions\n",
    "1. All armored units are homogeneous and have the same equipment as other tanks of the same model.\n",
    "2. Infantry fire is negligible due to their low numbers and low effectiveness against armored vehicles.\n",
    "3. The theatre for the battle is limited to a small area between 70 and 73 Easting.\n",
    "    \n",
    "### 2.3 Aim\n",
    "The aim of this tutorial is to simulate the Battle of 73 Easting under the above conditions by determining the parameters of each model. Each model will then be evaluated on\n",
    "1. Accuracy compared to the final product\n",
    "2. Ease of modifying the model to account for hypothetical situations"
   ]
  },
  {
   "cell_type": "markdown",
   "metadata": {},
   "source": [
    "## 3. Continuous Time Model\n",
    "\n",
    "In 1916, Lanchester observed that in modern warfare, with guns and not swords, multiple units are able to direct their fire at a single enemy and developed the square law. He postulated that the rate of decrease in an enemy’s number of troops is directly proportional to the the number of troops multiplied by their effectiveness [8]. Mathematically, with $f$ and $e$ representing friendly and enemy forces respectively and $e$ representing the force effectiveness of friendly forces.\n",
    "\n",
    "<br /><center>$\\frac{dF}{dt} = -Ee$<center><br />\n",
    "    \n",
    "Furthermore, the force effectiveness $f$ and $e$ can be determined by multiplying the number of shots possible per unit time, multiplied by the probability of each shot being a kill.\n",
    "\n",
    "<br /><center>$f = r_Fp_{kill,F,E}$<center><br />\n",
    "    \n",
    "where $r_F$ is the rate of fire of friendly forces, and $p_{kill,F,E}$ is the probability a fired shot from a friendly unit kills an enemy unit. A close examination of this model reveals that the largest challenge in producing an accurate model is the determination of $p_{kill,F,E}$ as $r_F$ is largely constant and unaffected by external factors. $p_{kill,F,E}$ however, can be affected by a large array of factors, from external factors such as the weather or terrain, to soft factors such as crew\n",
    "training and morale. For the purpose of this tutorial, the empirically tested probabilities will be used as the initial value from which the parameter will be tuned. The deviation required for an accurate model can then be found and an analysis will be conducted to determine if such a deviation was realistic given the ground conditions at that time. The model is a continuous time model with each step $dt$ being infinitesimally small. However, this is not feasible when programming a real system and thus the model needs to be discretized. This can be achieved [14] by setting\n",
    "\n",
    "<br /><center>$\\Delta(F) = F + \\frac{d}{dt}(F)\\Delta t$<center>"
   ]
  },
  {
   "cell_type": "code",
   "execution_count": 2,
   "metadata": {},
   "outputs": [],
   "source": [
    "import numpy as np\n",
    "import matplotlib.pyplot as plt"
   ]
  },
  {
   "cell_type": "code",
   "execution_count": 155,
   "metadata": {},
   "outputs": [],
   "source": [
    "class UN:\n",
    "    \n",
    "    def __init__(self, N, p=0.6, r=9):\n",
    "        # Aggregate parameters for UN tanks\n",
    "        \n",
    "        self.p = p # probability of kill\n",
    "        self.r = r # shots per minute\n",
    "        self.num = N # number of tanks left"
   ]
  },
  {
   "cell_type": "code",
   "execution_count": 156,
   "metadata": {},
   "outputs": [],
   "source": [
    "class Iraqi:\n",
    "    \n",
    "    def __init__(self, N, p=0.02, r=8):\n",
    "        # Aggregate parameters for UN tanks\n",
    "        \n",
    "        self.p = p # probability of kill\n",
    "        self.r = r # shots per minute\n",
    "        self.num = N # number of tanks left"
   ]
  },
  {
   "cell_type": "code",
   "execution_count": 157,
   "metadata": {},
   "outputs": [],
   "source": [
    "def F(defending,attacking):\n",
    "    defence = defending.num - attacking.num * attacking.p * attacking.r\n",
    "    attack = attacking.num - defending.num * defending.p * defending.r\n",
    "    defending.num = max(defence,0)\n",
    "    attacking.num = max(attack,0)"
   ]
  },
  {
   "cell_type": "code",
   "execution_count": 158,
   "metadata": {},
   "outputs": [],
   "source": [
    "# Time step is 1 minute\n",
    "def sim(F, blue, red, t_max):\n",
    "    track_un = [blue.num]\n",
    "    track_iraqi = [red.num]\n",
    "    for t in range(t_max):\n",
    "        F(blue,red)\n",
    "        track_un.append(blue.num)\n",
    "        track_iraqi.append(red.num)\n",
    "    return track_un, track_iraqi"
   ]
  },
  {
   "cell_type": "code",
   "execution_count": 159,
   "metadata": {},
   "outputs": [],
   "source": [
    "blue = UN(123)\n",
    "red = Iraqi(265)\n",
    "T_MAX = 30"
   ]
  },
  {
   "cell_type": "code",
   "execution_count": 160,
   "metadata": {},
   "outputs": [
    {
     "name": "stdout",
     "output_type": "stream",
     "text": [
      "[123, 80.6, 80.6, 80.6, 80.6, 80.6, 80.6, 80.6, 80.6, 80.6, 80.6, 80.6, 80.6, 80.6, 80.6, 80.6, 80.6, 80.6, 80.6, 80.6, 80.6, 80.6, 80.6, 80.6, 80.6, 80.6, 80.6, 80.6, 80.6, 80.6, 80.6]\n",
      "[265, 0, 0, 0, 0, 0, 0, 0, 0, 0, 0, 0, 0, 0, 0, 0, 0, 0, 0, 0, 0, 0, 0, 0, 0, 0, 0, 0, 0, 0, 0]\n"
     ]
    }
   ],
   "source": [
    "track_un, track_iraqi = sim(F, blue, red, T_MAX)\n",
    "print(track_un)\n",
    "print(track_iraqi)"
   ]
  },
  {
   "cell_type": "code",
   "execution_count": 161,
   "metadata": {},
   "outputs": [
    {
     "data": {
      "image/png": "[encoded data removed]",
      "text/plain": [
       "<Figure size 432x288 with 1 Axes>"
      ]
     },
     "metadata": {
      "needs_background": "light"
     },
     "output_type": "display_data"
    }
   ],
   "source": [
    "t = range(0,T_MAX + 1)\n",
    "plt.plot(t, track_un, t, track_iraqi)\n",
    "plt.show()"
   ]
  },
  {
   "cell_type": "code",
   "execution_count": 162,
   "metadata": {},
   "outputs": [],
   "source": [
    "strength = range(265, 1000, 10)\n",
    "rem_un = []\n",
    "rem_iraqi = []\n",
    "for x in strength:\n",
    "    blue = UN(123)\n",
    "    red = Iraqi(x)\n",
    "    track_un, track_iraqi = sim(F, blue, red, T_MAX)\n",
    "    rem_un.append(track_un[-1])\n",
    "    rem_iraqi.append(track_iraqi[-1])"
   ]
  },
  {
   "cell_type": "code",
   "execution_count": 163,
   "metadata": {},
   "outputs": [
    {
     "data": {
      "image/png": "[encoded data removed]",
      "text/plain": [
       "<Figure size 432x288 with 1 Axes>"
      ]
     },
     "metadata": {
      "needs_background": "light"
     },
     "output_type": "display_data"
    }
   ],
   "source": [
    "plt.plot(strength, rem_un, strength, rem_iraqi)\n",
    "plt.show()"
   ]
  },
  {
   "cell_type": "code",
   "execution_count": 170,
   "metadata": {},
   "outputs": [],
   "source": [
    "strength = np.arange(0.02, 0.1, 0.01)\n",
    "rem_un = []\n",
    "rem_iraqi = []\n",
    "for p in strength:\n",
    "    blue = UN(123)\n",
    "    red = Iraqi(265,p=p)\n",
    "    track_un, track_iraqi = sim(F, blue, red, T_MAX)\n",
    "    rem_un.append(track_un[-1])\n",
    "    rem_iraqi.append(track_iraqi[-1])"
   ]
  },
  {
   "cell_type": "code",
   "execution_count": 171,
   "metadata": {},
   "outputs": [
    {
     "data": {
      "image/png": "[encoded data removed]",
      "text/plain": [
       "<Figure size 432x288 with 1 Axes>"
      ]
     },
     "metadata": {
      "needs_background": "light"
     },
     "output_type": "display_data"
    }
   ],
   "source": [
    "plt.plot(strength, rem_un, strength, rem_iraqi)\n",
    "plt.show()"
   ]
  },
  {
   "cell_type": "code",
   "execution_count": null,
   "metadata": {},
   "outputs": [],
   "source": []
  }
 ],
 "metadata": {
  "kernelspec": {
   "display_name": "Python 3",
   "language": "python",
   "name": "python3"
  },
  "language_info": {
   "codemirror_mode": {
    "name": "ipython",
    "version": 3
   },
   "file_extension": ".py",
   "mimetype": "text/x-python",
   "name": "python",
   "nbconvert_exporter": "python",
   "pygments_lexer": "ipython3",
   "version": "3.7.5"
  }
 },
 "nbformat": 4,
 "nbformat_minor": 2
}
